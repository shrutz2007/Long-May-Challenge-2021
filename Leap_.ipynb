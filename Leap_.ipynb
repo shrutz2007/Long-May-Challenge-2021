{
  "nbformat": 4,
  "nbformat_minor": 0,
  "metadata": {
    "colab": {
      "name": "Leap .ipynb",
      "provenance": []
    },
    "kernelspec": {
      "name": "python3",
      "display_name": "Python 3"
    },
    "language_info": {
      "name": "python"
    }
  },
  "cells": [
    {
      "cell_type": "code",
      "metadata": {
        "colab": {
          "base_uri": "https://localhost:8080/"
        },
        "id": "K3AA-2Q6aAIy",
        "outputId": "275da361-eb18-4c2d-d708-6ad07de1a622"
      },
      "source": [
        "year=int(input(\"Enter the year you wanted to check : \"))\n",
        "if(year%4==0):\n",
        "  print(\"Leap\")\n",
        "elif(year%100!=0 and year%400==0):\n",
        "  print(\"Leap\")\n",
        "else:\n",
        "  print(\"Not Leap\")\n"
      ],
      "execution_count": 3,
      "outputs": [
        {
          "output_type": "stream",
          "text": [
            "Enter the year you wanted to check : 2004\n",
            "Leap\n"
          ],
          "name": "stdout"
        }
      ]
    }
  ]
}