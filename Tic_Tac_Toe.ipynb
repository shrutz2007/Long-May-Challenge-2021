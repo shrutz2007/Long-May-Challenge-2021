{
  "nbformat": 4,
  "nbformat_minor": 0,
  "metadata": {
    "colab": {
      "name": "Tic Tac Toe.ipynb",
      "provenance": []
    },
    "kernelspec": {
      "name": "python3",
      "display_name": "Python 3"
    },
    "language_info": {
      "name": "python"
    }
  },
  "cells": [
    {
      "cell_type": "code",
      "metadata": {
        "id": "MhcpjFl27AGv"
      },
      "source": [
        "try:\n",
        "    t=int(input())\n",
        "    while t:\n",
        "        arr=[]\n",
        "        for i in range(3):\n",
        "            row=input()\n",
        "            arr.append(row)\n",
        "        X,O,blank=0,0,0\n",
        "        for i in range(3):\n",
        "            for j in arr[i]:\n",
        "                if j=='X':X+=1\n",
        "                if j=='O':O+=1\n",
        "                if j=='_':blank+=1\n",
        "        ansX,ansO=0,0\n",
        "        \n",
        "        if arr[0][0]=='X' and arr[0][1]=='X' and arr[0][2]=='X':ansX=1\n",
        "        if arr[1][0]=='X' and arr[1][1]=='X' and arr[1][2]=='X':ansX=1\n",
        "        if arr[2][0]=='X' and arr[2][1]=='X' and arr[2][2]=='X':ansX=1\n",
        "        if arr[0][0]=='X' and arr[1][0]=='X' and arr[2][0]=='X':ansX=1\n",
        "        if arr[0][1]=='X' and arr[1][1]=='X' and arr[2][1]=='X':ansX=1\n",
        "        if arr[0][2]=='X' and arr[1][2]=='X' and arr[2][2]=='X':ansX=1\n",
        "        if arr[0][0]=='X' and arr[1][1]=='X' and arr[2][2]=='X':ansX=1\n",
        "        if arr[0][2]=='X' and arr[1][1]=='X' and arr[2][0]=='X':ansX=1\n",
        "        \n",
        "        \n",
        "        if arr[0][0]=='O' and arr[0][1]=='O' and arr[0][2]=='O':ansO=1\n",
        "        if arr[1][0]=='O' and arr[1][1]=='O' and arr[1][2]=='O':ansO=1\n",
        "        if arr[2][0]=='O' and arr[2][1]=='O' and arr[2][2]=='O':ansO=1\n",
        "        if arr[0][0]=='O' and arr[1][0]=='O' and arr[2][0]=='O':ansO=1\n",
        "        if arr[0][1]=='O' and arr[1][1]=='O' and arr[2][1]=='O':ansO=1\n",
        "        if arr[0][2]=='O' and arr[1][2]=='O' and arr[2][2]=='O':ansO=1\n",
        "        if arr[0][0]=='O' and arr[1][1]=='O' and arr[2][2]=='O':ansO=1\n",
        "        if arr[0][2]=='O' and arr[1][1]=='O' and arr[2][0]=='O':ansO=1\n",
        "        \n",
        "        \n",
        "        \n",
        "        if ((ansX==1 and ansO==1) or (X-O<0) or (X-O>1)): print(3)\n",
        "        elif(X==0 and O==0 and blank==9): print(2)\n",
        "        elif(ansX==1 and ansO==0 and X>O): print(1)\n",
        "        elif(ansX==0 and ansO==1 and X==O): print(1)\n",
        "        elif(ansX==0 and ansO==0 and blank==0): print(1)\n",
        "        elif(ansX==0 and ansO==0 and blank>0): print(2)\n",
        "        else: print(3)\n",
        "        \n",
        "        t-=1\n",
        "except:\n",
        "    pass\n",
        "        \n",
        "        "
      ],
      "execution_count": null,
      "outputs": []
    }
  ]
}