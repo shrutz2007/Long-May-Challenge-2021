{
  "nbformat": 4,
  "nbformat_minor": 0,
  "metadata": {
    "colab": {
      "name": "Paint can.ipynb",
      "provenance": []
    },
    "kernelspec": {
      "name": "python3",
      "display_name": "Python 3"
    },
    "language_info": {
      "name": "python"
    }
  },
  "cells": [
    {
      "cell_type": "code",
      "metadata": {
        "colab": {
          "base_uri": "https://localhost:8080/"
        },
        "id": "hogavfFyAXPa",
        "outputId": "aa21f704-73b1-4d4e-f4e1-323587d18e53"
      },
      "source": [
        "def paint_calc(h,w,c):\n",
        "  ans=(h*w)/c\n",
        "  print(f\"You will need {round(ans)} cans of paint\")\n",
        "height=int(input(\"Height : \"))\n",
        "width=int(input(\"Width : \"))\n",
        "coverage=5\n",
        "paint_calc(h=height,w=width,c=coverage)\n"
      ],
      "execution_count": 2,
      "outputs": [
        {
          "output_type": "stream",
          "text": [
            "Height : 3\n",
            "Width : 9\n",
            "You will need 5 cans of paint\n"
          ],
          "name": "stdout"
        }
      ]
    }
  ]
}