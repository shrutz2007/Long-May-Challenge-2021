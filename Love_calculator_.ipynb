{
  "nbformat": 4,
  "nbformat_minor": 0,
  "metadata": {
    "colab": {
      "name": "Love calculator .ipynb",
      "provenance": []
    },
    "kernelspec": {
      "name": "python3",
      "display_name": "Python 3"
    },
    "language_info": {
      "name": "python"
    }
  },
  "cells": [
    {
      "cell_type": "code",
      "metadata": {
        "colab": {
          "base_uri": "https://localhost:8080/"
        },
        "id": "K3AA-2Q6aAIy",
        "outputId": "7f5596a4-8907-4961-e82e-05e5ffb28f13"
      },
      "source": [
        "print(\"Welcome to Love Calculator\")\n",
        "a=input(\"What is your name : \")\n",
        "b=input(\"What is your patners name : \")\n",
        "a=a.lower()\n",
        "b=b.lower()\n",
        "#print(a,b)\n",
        "add=a+b\n",
        "t=add.count('t')\n",
        "r=add.count('r')\n",
        "u=add.count('u')\n",
        "e=add.count('e')\n",
        "true=t+r+u+e\n",
        "l=add.count('l')\n",
        "o=add.count('o')\n",
        "v=add.count('v')\n",
        "e=add.count('e')\n",
        "love=l+o+v+e\n",
        "love_score=str(true)+str(love)\n",
        "n=int(love_score)\n",
        "#print(f\"Your Love Score is {love_score}\")\n",
        "if(n<10 or n>90):\n",
        "  print(f\"Your score is {n}, and you both together are like coke and mentos\")\n",
        "elif(n>40 and n<50):\n",
        "  print(f\"Your score is {n}, and you are already together\")\n",
        "else:\n",
        "  print(f\"Your score is {n}\")\n"
      ],
      "execution_count": 1,
      "outputs": [
        {
          "output_type": "stream",
          "text": [
            "Welcome to Love Calculator\n",
            "What is your name : Shruti Jawale\n",
            "What is your patners name : Dhaval Joshi\n",
            "Your score is 45, and you are already together\n"
          ],
          "name": "stdout"
        }
      ]
    }
  ]
}