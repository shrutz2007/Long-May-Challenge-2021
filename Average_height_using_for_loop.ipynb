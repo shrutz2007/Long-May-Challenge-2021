{
  "nbformat": 4,
  "nbformat_minor": 0,
  "metadata": {
    "colab": {
      "name": "Average height using for loop.ipynb",
      "provenance": []
    },
    "kernelspec": {
      "name": "python3",
      "display_name": "Python 3"
    },
    "language_info": {
      "name": "python"
    }
  },
  "cells": [
    {
      "cell_type": "code",
      "metadata": {
        "colab": {
          "base_uri": "https://localhost:8080/"
        },
        "id": "K3AA-2Q6aAIy",
        "outputId": "0ad36202-4092-4581-c8f1-4c03df7219a9"
      },
      "source": [
        "height=input(\"Input a list of students : \").split( )\n",
        "for i in range(0,len(height)):\n",
        "  height[i]=int(height[i])\n",
        "print(height)\n",
        "sum_of_height=sum(height)\n",
        "length=len(height)\n",
        "average=round(sum_of_height/length)\n",
        "print(average)"
      ],
      "execution_count": 1,
      "outputs": [
        {
          "output_type": "stream",
          "text": [
            "Input a list of students : 12 54 89 63 5\n",
            "[12, 54, 89, 63, 5]\n",
            "45\n"
          ],
          "name": "stdout"
        }
      ]
    },
    {
      "cell_type": "code",
      "metadata": {
        "colab": {
          "base_uri": "https://localhost:8080/"
        },
        "id": "DlkVROcjUy-Z",
        "outputId": "f7998182-6bdb-49b8-9797-762a190b5bfb"
      },
      "source": [
        "height=input(\"Input a list of students : \").split( )\n",
        "for i in range(0,len(height)):\n",
        "  height[i]=int(height[i])\n",
        "print(height)\n",
        "sum=0\n",
        "for i in height:\n",
        "  sum+=i\n",
        "print(sum)\n",
        "\n",
        "length=0\n",
        "for length in height:\n",
        "  length+=1\n",
        "print(f\"Length is {length}\")\n",
        "average=round(sum/length)\n",
        "print(average)"
      ],
      "execution_count": 3,
      "outputs": [
        {
          "output_type": "stream",
          "text": [
            "Input a list of students : 12 56 48 7\n",
            "[12, 56, 48, 7]\n",
            "123\n",
            "Length is 8\n",
            "15\n"
          ],
          "name": "stdout"
        }
      ]
    }
  ]
}