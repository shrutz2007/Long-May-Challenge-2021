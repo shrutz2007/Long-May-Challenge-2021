{
  "nbformat": 4,
  "nbformat_minor": 0,
  "metadata": {
    "colab": {
      "name": "Lapindrome.ipynb",
      "provenance": []
    },
    "kernelspec": {
      "name": "python3",
      "display_name": "Python 3"
    },
    "language_info": {
      "name": "python"
    }
  },
  "cells": [
    {
      "cell_type": "code",
      "metadata": {
        "colab": {
          "base_uri": "https://localhost:8080/"
        },
        "id": "K3AA-2Q6aAIy",
        "outputId": "41f72575-71e0-41ee-bee2-ec2970ff5781"
      },
      "source": [
        "for _ in range(int(input())):\n",
        "    s=input()\n",
        "    s1=s[:len(s)//2]\n",
        "    s2=s[len(s)//2:]\n",
        "    if len(s)%2==0:\n",
        "        if sorted(s1)==sorted(s2):\n",
        "            print(\"YES\")\n",
        "        else:\n",
        "            print(\"NO\")\n",
        "    else:\n",
        "        s3=s2[1:]\n",
        "        if sorted(s1)==sorted(s3):\n",
        "            print(\"YES\")\n",
        "        else:\n",
        "            print(\"NO\")"
      ],
      "execution_count": 4,
      "outputs": [
        {
          "output_type": "stream",
          "text": [
            "3\n",
            "rotor\n",
            "YES\n",
            "abcde\n",
            "NO\n",
            "gaga\n",
            "YES\n"
          ],
          "name": "stdout"
        }
      ]
    }
  ]
}