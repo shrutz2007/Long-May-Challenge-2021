{
  "nbformat": 4,
  "nbformat_minor": 0,
  "metadata": {
    "colab": {
      "name": "Calculaotr.ipynb",
      "provenance": []
    },
    "kernelspec": {
      "name": "python3",
      "display_name": "Python 3"
    },
    "language_info": {
      "name": "python"
    }
  },
  "cells": [
    {
      "cell_type": "code",
      "metadata": {
        "colab": {
          "base_uri": "https://localhost:8080/"
        },
        "id": "K3AA-2Q6aAIy",
        "outputId": "5efabbea-c5a4-4ceb-a593-b0bff60ce334"
      },
      "source": [
        "#Calculator\n",
        "\n",
        "def add(n1, n2):\n",
        "  return n1 + n2\n",
        "\n",
        "def subtract(n1, n2):\n",
        "  return n1 - n2\n",
        "\n",
        "def multiply(n1, n2):\n",
        "  return n1 * n2\n",
        "\n",
        "def divide(n1, n2):\n",
        "  return n1 / n2\n",
        "\n",
        "operations = {\n",
        "  \"+\": add,\n",
        "  \"-\": subtract,\n",
        "  \"*\": multiply,\n",
        "  \"/\": divide\n",
        "}\n",
        "\n",
        "num1 = int(input(\"What's the first number?: \"))\n",
        "for symbol in operations:\n",
        "  print(symbol)\n",
        "operation_symbol = input(\"Pick an operation from the line above: \")\n",
        "num2 = int(input(\"What's the second number?: \"))\n",
        "calculation_function = operations[operation_symbol]\n",
        "answer = calculation_function(num1, num2)\n",
        "\n",
        "print(f\"{num1} {operation_symbol} {num2} = {answer}\")"
      ],
      "execution_count": 2,
      "outputs": [
        {
          "output_type": "stream",
          "text": [
            "What's the first number?: 45\n",
            "+\n",
            "-\n",
            "*\n",
            "/\n",
            "Pick an operation from the line above: -\n",
            "What's the second number?: 15\n",
            "45 - 15 = 30\n"
          ],
          "name": "stdout"
        }
      ]
    }
  ]
}