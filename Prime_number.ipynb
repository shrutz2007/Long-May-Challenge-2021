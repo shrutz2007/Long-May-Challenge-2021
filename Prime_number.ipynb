{
  "nbformat": 4,
  "nbformat_minor": 0,
  "metadata": {
    "colab": {
      "name": "Prime number.ipynb",
      "provenance": []
    },
    "kernelspec": {
      "name": "python3",
      "display_name": "Python 3"
    },
    "language_info": {
      "name": "python"
    }
  },
  "cells": [
    {
      "cell_type": "code",
      "metadata": {
        "colab": {
          "base_uri": "https://localhost:8080/"
        },
        "id": "K3AA-2Q6aAIy",
        "outputId": "0953368e-4d3d-44d3-871c-e5890b3a77d3"
      },
      "source": [
        "def prime_checker(n):\n",
        "  is_prime=True\n",
        "  for i in range(2,n-1):\n",
        "    if(n%i==0):\n",
        "      is_prime=False\n",
        "      \n",
        "  if is_prime:\n",
        "    print(\"prime\")\n",
        "\n",
        "  else:\n",
        "    print(\"Not Prime\")\n",
        "\n",
        "\n",
        "n=int(input(\"Enter the number : \"))\n",
        "prime_checker(n)"
      ],
      "execution_count": 2,
      "outputs": [
        {
          "output_type": "stream",
          "text": [
            "Enter the number : 73\n",
            "prime\n"
          ],
          "name": "stdout"
        }
      ]
    }
  ]
}