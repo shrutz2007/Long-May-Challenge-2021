{
  "nbformat": 4,
  "nbformat_minor": 0,
  "metadata": {
    "colab": {
      "name": "Function.ipynb",
      "provenance": []
    },
    "kernelspec": {
      "name": "python3",
      "display_name": "Python 3"
    },
    "language_info": {
      "name": "python"
    }
  },
  "cells": [
    {
      "cell_type": "code",
      "metadata": {
        "colab": {
          "base_uri": "https://localhost:8080/"
        },
        "id": "hogavfFyAXPa",
        "outputId": "94560693-4c04-4f5f-83a2-0f66645b7d88"
      },
      "source": [
        "def greet(name, loaction):\n",
        "  print(f\"Hello {name} are you from {loaction}\")\n",
        "greet(loaction=\"India\",name=\"Shruti\")\n"
      ],
      "execution_count": 1,
      "outputs": [
        {
          "output_type": "stream",
          "text": [
            "Hello Shruti are you from India\n"
          ],
          "name": "stdout"
        }
      ]
    }
  ]
}