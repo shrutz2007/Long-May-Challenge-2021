{
  "nbformat": 4,
  "nbformat_minor": 0,
  "metadata": {
    "colab": {
      "name": "Tip Calculator.ipynb",
      "provenance": []
    },
    "kernelspec": {
      "name": "python3",
      "display_name": "Python 3"
    },
    "language_info": {
      "name": "python"
    }
  },
  "cells": [
    {
      "cell_type": "code",
      "metadata": {
        "colab": {
          "base_uri": "https://localhost:8080/"
        },
        "id": "K3AA-2Q6aAIy",
        "outputId": "1c6ef7a4-7ccf-477c-b591-8eb609a0e553"
      },
      "source": [
        "#Tip calculater\n",
        "print(\"Welcome to tip calculator.\")\n",
        "a=float(input(\"What was the total bill? $\"))\n",
        "b=int(input(\"what percent tip would yuo like to give? 10, 12 or 15?\"))\n",
        "n=int(input(\"How many people want to split the bill?\"))\n",
        "result=a*(1+b/100)\n",
        "bill=result/n\n",
        "print(round(bill,2))\n"
      ],
      "execution_count": 1,
      "outputs": [
        {
          "output_type": "stream",
          "text": [
            "Welcome to tip calculator.\n",
            "What was the total bill? $120\n",
            "what percent tip would yuo like to give? 10, 12 or 15?12\n",
            "How many people want to split the bill?7\n",
            "19.2\n"
          ],
          "name": "stdout"
        }
      ]
    }
  ]
}