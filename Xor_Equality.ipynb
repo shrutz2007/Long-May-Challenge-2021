{
  "nbformat": 4,
  "nbformat_minor": 0,
  "metadata": {
    "colab": {
      "name": "Xor Equality.ipynb",
      "provenance": []
    },
    "kernelspec": {
      "name": "python3",
      "display_name": "Python 3"
    },
    "language_info": {
      "name": "python"
    }
  },
  "cells": [
    {
      "cell_type": "code",
      "metadata": {
        "colab": {
          "base_uri": "https://localhost:8080/"
        },
        "id": "MhcpjFl27AGv",
        "outputId": "287802f0-8d9c-4ee6-b833-cb8b0404f47a"
      },
      "source": [
        "def func(p,n,m):\n",
        "    res=1\n",
        "    p=p%m\n",
        "    \n",
        "    if p==0:\n",
        "        return 0\n",
        "    \n",
        "    while(n>0):\n",
        "        if(n&1):\n",
        "            res=(res*p)%m\n",
        "        n=n>>1\n",
        "        p=(p*p)%m\n",
        "    return res\n",
        "m=(10**9)+7\n",
        "m=1000000007\n",
        "t=int(input())\n",
        "for i in range(t):\n",
        "    n=int(input())\n",
        "    ans=func(2,n-1,m)\n",
        "    print(ans)"
      ],
      "execution_count": 3,
      "outputs": [
        {
          "output_type": "stream",
          "text": [
            "2\n",
            "1\n",
            "1\n",
            "2\n",
            "2\n"
          ],
          "name": "stdout"
        }
      ]
    }
  ]
}