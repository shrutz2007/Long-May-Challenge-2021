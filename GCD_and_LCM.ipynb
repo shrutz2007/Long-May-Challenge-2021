{
  "nbformat": 4,
  "nbformat_minor": 0,
  "metadata": {
    "colab": {
      "name": "GCD and LCM.ipynb",
      "provenance": []
    },
    "kernelspec": {
      "name": "python3",
      "display_name": "Python 3"
    },
    "language_info": {
      "name": "python"
    }
  },
  "cells": [
    {
      "cell_type": "code",
      "metadata": {
        "colab": {
          "base_uri": "https://localhost:8080/"
        },
        "id": "K3AA-2Q6aAIy",
        "outputId": "7bb83da3-a0fa-4656-df3e-1f3702a09b39"
      },
      "source": [
        "t= int(input())\n",
        "for i in range(t):\n",
        "     num=[int(x) for x in input().split(' ')]\n",
        "     a=min(num)\n",
        "     b=max(num)\n",
        "     multiply=a*b\n",
        "     while(b):\n",
        "       a,b=b,a%b\n",
        "     hcf=a\n",
        "     lcm=multiply/hcf  \n",
        "     print(hcf,int(lcm))14"
      ],
      "execution_count": 3,
      "outputs": [
        {
          "output_type": "stream",
          "text": [
            "1\n",
            "120 140\n",
            "20 840\n"
          ],
          "name": "stdout"
        }
      ]
    }
  ]
}