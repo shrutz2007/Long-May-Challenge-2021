{
  "nbformat": 4,
  "nbformat_minor": 0,
  "metadata": {
    "colab": {
      "name": "Pizza Program .ipynb",
      "provenance": []
    },
    "kernelspec": {
      "name": "python3",
      "display_name": "Python 3"
    },
    "language_info": {
      "name": "python"
    }
  },
  "cells": [
    {
      "cell_type": "code",
      "metadata": {
        "colab": {
          "base_uri": "https://localhost:8080/"
        },
        "id": "K3AA-2Q6aAIy",
        "outputId": "875b3afa-9ac6-4ed0-a477-ff0215d1edbe"
      },
      "source": [
        "#Pizza Delivery Program\n",
        "print(\"Welcome to Pizza Delivery App\")\n",
        "size=input(\"Enter the size you want S,  L : \")\n",
        "p=input(\"Do you want pepperoni Y or N : \")\n",
        "c=input(\"Do you want cheese added in it? A or B : \")\n",
        "bill=0\n",
        "if size==\"S\":\n",
        "  bill=15\n",
        "elif size==\"L\":\n",
        "  bill=25\n",
        "if p==\"Y\":\n",
        "  bill+=1\n",
        "if c==\"A\":\n",
        "  bill+=2\n",
        "print(f\"Your total bill is ${bill}\")\n"
      ],
      "execution_count": 1,
      "outputs": [
        {
          "output_type": "stream",
          "text": [
            "Welcome to Pizza Delivery App\n",
            "Enter the size you want S,  L : S\n",
            "Do you want pepperoni Y or N : Y\n",
            "Do you want cheese added in it? A or B : A\n",
            "Your total bill is $18\n"
          ],
          "name": "stdout"
        }
      ]
    }
  ]
}