{
  "nbformat": 4,
  "nbformat_minor": 0,
  "metadata": {
    "colab": {
      "name": "Name.ipynb",
      "provenance": []
    },
    "kernelspec": {
      "name": "python3",
      "display_name": "Python 3"
    },
    "language_info": {
      "name": "python"
    }
  },
  "cells": [
    {
      "cell_type": "code",
      "metadata": {
        "colab": {
          "base_uri": "https://localhost:8080/"
        },
        "id": "K3AA-2Q6aAIy",
        "outputId": "cf9c33a3-644e-411a-b71a-33cdda79ae5b"
      },
      "source": [
        "def format_name(f_name,l_name):\n",
        "    \n",
        "    print(f\"Hello {f_name} {l_name}\")\n",
        "f_name=input().title()\n",
        "l_name=input().title()\n",
        "\n",
        "format_name(f_name,l_name)"
      ],
      "execution_count": 1,
      "outputs": [
        {
          "output_type": "stream",
          "text": [
            "shRUTI\n",
            "jawale\n",
            "Hello Shruti Jawale\n"
          ],
          "name": "stdout"
        }
      ]
    }
  ]
}