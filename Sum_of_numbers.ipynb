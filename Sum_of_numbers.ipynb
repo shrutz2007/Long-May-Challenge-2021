{
  "nbformat": 4,
  "nbformat_minor": 0,
  "metadata": {
    "colab": {
      "name": "Sum of numbers.ipynb",
      "provenance": []
    },
    "kernelspec": {
      "name": "python3",
      "display_name": "Python 3"
    },
    "language_info": {
      "name": "python"
    }
  },
  "cells": [
    {
      "cell_type": "code",
      "metadata": {
        "id": "MhcpjFl27AGv"
      },
      "source": [
        "t=int(input())\n",
        "for i in range(t):\n",
        "    sum=0\n",
        "    n=input()\n",
        "    while n!=\"\":\n",
        "        sum+=int(n[-1])\n",
        "        n=n[:-1]\n",
        "    print(sum)"
      ],
      "execution_count": null,
      "outputs": []
    }
  ]
}