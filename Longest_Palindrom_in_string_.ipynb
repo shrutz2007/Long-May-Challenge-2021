{
  "nbformat": 4,
  "nbformat_minor": 0,
  "metadata": {
    "colab": {
      "name": "Longest Palindrom in string .ipynb",
      "provenance": []
    },
    "kernelspec": {
      "name": "python3",
      "display_name": "Python 3"
    },
    "language_info": {
      "name": "python"
    }
  },
  "cells": [
    {
      "cell_type": "code",
      "metadata": {
        "colab": {
          "base_uri": "https://localhost:8080/"
        },
        "id": "K3AA-2Q6aAIy",
        "outputId": "b2e8e7ed-3b31-44a3-e9ec-68af050e78ae"
      },
      "source": [
        "s=input()\n",
        "out1=[]\n",
        "def substring(x):\n",
        "    for i in range(len(x)):\n",
        "        a=x[i:]\n",
        "        b=x[:-i]\n",
        "        out1.append(a)\n",
        "        out1.append(b)\n",
        "        \n",
        "    return out1\n",
        "\n",
        "for i in range(len(s)):\n",
        "    substring(s[i:])    \n",
        "final=set([item for item in out1 if len(item)>2])\n",
        "final\n",
        "palind={item:len(item) for item in final if item==item[::-1]}\n",
        "print(palind)\n",
        "sorted(palind.items(),reverse=True, key=lambda x: x[1])[0]\n",
        "print(max(palind))"
      ],
      "execution_count": 2,
      "outputs": [
        {
          "output_type": "stream",
          "text": [
            "nitin\n",
            "{'nitin': 5, 'iti': 3}\n",
            "nitin\n"
          ],
          "name": "stdout"
        }
      ]
    }
  ]
}