{
  "nbformat": 4,
  "nbformat_minor": 0,
  "metadata": {
    "colab": {
      "name": "Reverse sentence without punctuation.ipynb",
      "provenance": []
    },
    "kernelspec": {
      "name": "python3",
      "display_name": "Python 3"
    },
    "language_info": {
      "name": "python"
    }
  },
  "cells": [
    {
      "cell_type": "code",
      "metadata": {
        "colab": {
          "base_uri": "https://localhost:8080/"
        },
        "id": "K3AA-2Q6aAIy",
        "outputId": "7b9910d8-2301-40dc-83a5-be54bfcb4167"
      },
      "source": [
        "# cook your dish here\n",
        "t=int(input())\n",
        "list=[]\n",
        "for i in range(t):\n",
        "    list.append(input().split()[::-1])\n",
        "for i in list[::-1]:\n",
        "    for j in i:\n",
        "        print(j.replace('.','').replace(',','').replace(':','').replace(';','').replace(\"'\",\"\"),end=' ')\n",
        "    print()"
      ],
      "execution_count": 1,
      "outputs": [
        {
          "output_type": "stream",
          "text": [
            "1\n",
            "This is a sample piece of text to illustrate this  problem.\n",
            "problem this illustrate to text of piece sample a is This \n"
          ],
          "name": "stdout"
        }
      ]
    }
  ]
}