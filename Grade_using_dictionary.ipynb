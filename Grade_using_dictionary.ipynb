{
  "nbformat": 4,
  "nbformat_minor": 0,
  "metadata": {
    "colab": {
      "name": "Grade using dictionary.ipynb",
      "provenance": []
    },
    "kernelspec": {
      "name": "python3",
      "display_name": "Python 3"
    },
    "language_info": {
      "name": "python"
    }
  },
  "cells": [
    {
      "cell_type": "code",
      "metadata": {
        "colab": {
          "base_uri": "https://localhost:8080/"
        },
        "id": "K3AA-2Q6aAIy",
        "outputId": "3b377415-3495-4091-aeba-68ef8fecd39f"
      },
      "source": [
        "Student_scores={\n",
        "  \"Shruti\":81,\n",
        "  \"Dhaval\":78,\n",
        "  \"Rutuja\":99,\n",
        "  \"Darco\":62,\n",
        "}\n",
        "Student_grades={}\n",
        "for key in Student_scores:\n",
        "  n=Student_scores[key]\n",
        "  if n>90:\n",
        "    Student_grades[key]=\"Outstanding\"\n",
        "  elif n>=81 and n<90:\n",
        "    Student_grades[key]=\"Exceed Expectation\"\n",
        "  elif n>70 and n<=80:\n",
        "    Student_grades[key]=\"Need Improvement\"\n",
        "  else:\n",
        "    Student_grades[key]=\"Fail\"\n",
        "\n",
        "\n",
        "print(Student_grades)"
      ],
      "execution_count": 1,
      "outputs": [
        {
          "output_type": "stream",
          "text": [
            "{'Shruti': 'Exceed Expectation', 'Dhaval': 'Need Improvement', 'Rutuja': 'Outstanding', 'Darco': 'Fail'}\n"
          ],
          "name": "stdout"
        }
      ]
    }
  ]
}